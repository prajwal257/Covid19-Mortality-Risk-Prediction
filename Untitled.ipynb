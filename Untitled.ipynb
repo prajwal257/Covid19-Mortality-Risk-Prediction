{
 "cells": [
  {
   "cell_type": "code",
   "execution_count": 21,
   "id": "a72d5903-aa7d-4857-9164-31860e6b298d",
   "metadata": {},
   "outputs": [],
   "source": [
    "import numpy as np\n",
    "import pandas as pd\n",
    "import matplotlib.pyplot as plt\n",
    "import seaborn as sns"
   ]
  },
  {
   "cell_type": "code",
   "execution_count": 22,
   "id": "71640a68-7fad-45ac-b6b5-ad23358c7cf4",
   "metadata": {},
   "outputs": [],
   "source": [
    "df = pd.read_csv(\"final_df.csv\")"
   ]
  },
  {
   "cell_type": "code",
   "execution_count": 23,
   "id": "5681ec2f-6a92-4333-ac17-1e3dd87b9b71",
   "metadata": {},
   "outputs": [
    {
     "data": {
      "text/html": [
       "<div>\n",
       "<style scoped>\n",
       "    .dataframe tbody tr th:only-of-type {\n",
       "        vertical-align: middle;\n",
       "    }\n",
       "\n",
       "    .dataframe tbody tr th {\n",
       "        vertical-align: top;\n",
       "    }\n",
       "\n",
       "    .dataframe thead th {\n",
       "        text-align: right;\n",
       "    }\n",
       "</style>\n",
       "<table border=\"1\" class=\"dataframe\">\n",
       "  <thead>\n",
       "    <tr style=\"text-align: right;\">\n",
       "      <th></th>\n",
       "      <th>survey_Date</th>\n",
       "      <th>ip_latitude</th>\n",
       "      <th>ip_longitude</th>\n",
       "      <th>ip_accuracy</th>\n",
       "      <th>sex</th>\n",
       "      <th>age</th>\n",
       "      <th>height</th>\n",
       "      <th>bmi</th>\n",
       "      <th>blood_type</th>\n",
       "      <th>insurance</th>\n",
       "      <th>...</th>\n",
       "      <th>lung_disease</th>\n",
       "      <th>diabetes</th>\n",
       "      <th>hiv_positive</th>\n",
       "      <th>hypertension</th>\n",
       "      <th>other_chronic</th>\n",
       "      <th>nursing_home</th>\n",
       "      <th>health_worker</th>\n",
       "      <th>risk_infection</th>\n",
       "      <th>risk_mortality</th>\n",
       "      <th>country_name</th>\n",
       "    </tr>\n",
       "  </thead>\n",
       "  <tbody>\n",
       "    <tr>\n",
       "      <th>0</th>\n",
       "      <td>25-03-2020</td>\n",
       "      <td>33.9031</td>\n",
       "      <td>-118.1494</td>\n",
       "      <td>500</td>\n",
       "      <td>0</td>\n",
       "      <td>0</td>\n",
       "      <td>184</td>\n",
       "      <td>3.161247</td>\n",
       "      <td>0</td>\n",
       "      <td>0</td>\n",
       "      <td>...</td>\n",
       "      <td>0</td>\n",
       "      <td>0</td>\n",
       "      <td>0</td>\n",
       "      <td>0</td>\n",
       "      <td>0</td>\n",
       "      <td>0</td>\n",
       "      <td>0</td>\n",
       "      <td>100.0</td>\n",
       "      <td>0.194</td>\n",
       "      <td>United States</td>\n",
       "    </tr>\n",
       "    <tr>\n",
       "      <th>1</th>\n",
       "      <td>26-03-2020</td>\n",
       "      <td>52.0218</td>\n",
       "      <td>4.5357</td>\n",
       "      <td>5</td>\n",
       "      <td>1</td>\n",
       "      <td>1</td>\n",
       "      <td>164</td>\n",
       "      <td>3.440418</td>\n",
       "      <td>0</td>\n",
       "      <td>0</td>\n",
       "      <td>...</td>\n",
       "      <td>0</td>\n",
       "      <td>0</td>\n",
       "      <td>0</td>\n",
       "      <td>1</td>\n",
       "      <td>0</td>\n",
       "      <td>0</td>\n",
       "      <td>0</td>\n",
       "      <td>100.0</td>\n",
       "      <td>3.483</td>\n",
       "      <td>Netherlands</td>\n",
       "    </tr>\n",
       "    <tr>\n",
       "      <th>2</th>\n",
       "      <td>28-03-2020</td>\n",
       "      <td>-26.8740</td>\n",
       "      <td>-48.7028</td>\n",
       "      <td>10</td>\n",
       "      <td>1</td>\n",
       "      <td>2</td>\n",
       "      <td>170</td>\n",
       "      <td>3.095578</td>\n",
       "      <td>0</td>\n",
       "      <td>0</td>\n",
       "      <td>...</td>\n",
       "      <td>0</td>\n",
       "      <td>0</td>\n",
       "      <td>0</td>\n",
       "      <td>0</td>\n",
       "      <td>0</td>\n",
       "      <td>0</td>\n",
       "      <td>0</td>\n",
       "      <td>100.0</td>\n",
       "      <td>0.050</td>\n",
       "      <td>Brazil</td>\n",
       "    </tr>\n",
       "    <tr>\n",
       "      <th>3</th>\n",
       "      <td>27-03-2020</td>\n",
       "      <td>47.1921</td>\n",
       "      <td>8.1766</td>\n",
       "      <td>20</td>\n",
       "      <td>0</td>\n",
       "      <td>3</td>\n",
       "      <td>132</td>\n",
       "      <td>4.264087</td>\n",
       "      <td>1</td>\n",
       "      <td>0</td>\n",
       "      <td>...</td>\n",
       "      <td>0</td>\n",
       "      <td>0</td>\n",
       "      <td>1</td>\n",
       "      <td>0</td>\n",
       "      <td>0</td>\n",
       "      <td>0</td>\n",
       "      <td>0</td>\n",
       "      <td>100.0</td>\n",
       "      <td>13.973</td>\n",
       "      <td>Switzerland</td>\n",
       "    </tr>\n",
       "    <tr>\n",
       "      <th>4</th>\n",
       "      <td>27-03-2020</td>\n",
       "      <td>40.5733</td>\n",
       "      <td>-111.9107</td>\n",
       "      <td>5</td>\n",
       "      <td>0</td>\n",
       "      <td>4</td>\n",
       "      <td>184</td>\n",
       "      <td>3.549617</td>\n",
       "      <td>1</td>\n",
       "      <td>0</td>\n",
       "      <td>...</td>\n",
       "      <td>0</td>\n",
       "      <td>1</td>\n",
       "      <td>0</td>\n",
       "      <td>1</td>\n",
       "      <td>1</td>\n",
       "      <td>0</td>\n",
       "      <td>0</td>\n",
       "      <td>100.0</td>\n",
       "      <td>0.116</td>\n",
       "      <td>United States</td>\n",
       "    </tr>\n",
       "  </tbody>\n",
       "</table>\n",
       "<p>5 rows × 37 columns</p>\n",
       "</div>"
      ],
      "text/plain": [
       "  survey_Date  ip_latitude  ip_longitude  ip_accuracy  sex  age  height  \\\n",
       "0  25-03-2020      33.9031     -118.1494          500    0    0     184   \n",
       "1  26-03-2020      52.0218        4.5357            5    1    1     164   \n",
       "2  28-03-2020     -26.8740      -48.7028           10    1    2     170   \n",
       "3  27-03-2020      47.1921        8.1766           20    0    3     132   \n",
       "4  27-03-2020      40.5733     -111.9107            5    0    4     184   \n",
       "\n",
       "        bmi  blood_type  insurance  ...  lung_disease  diabetes  hiv_positive  \\\n",
       "0  3.161247           0          0  ...             0         0             0   \n",
       "1  3.440418           0          0  ...             0         0             0   \n",
       "2  3.095578           0          0  ...             0         0             0   \n",
       "3  4.264087           1          0  ...             0         0             1   \n",
       "4  3.549617           1          0  ...             0         1             0   \n",
       "\n",
       "   hypertension  other_chronic  nursing_home  health_worker  risk_infection  \\\n",
       "0             0              0             0              0           100.0   \n",
       "1             1              0             0              0           100.0   \n",
       "2             0              0             0              0           100.0   \n",
       "3             0              0             0              0           100.0   \n",
       "4             1              1             0              0           100.0   \n",
       "\n",
       "   risk_mortality   country_name  \n",
       "0           0.194  United States  \n",
       "1           3.483    Netherlands  \n",
       "2           0.050         Brazil  \n",
       "3          13.973    Switzerland  \n",
       "4           0.116  United States  \n",
       "\n",
       "[5 rows x 37 columns]"
      ]
     },
     "execution_count": 23,
     "metadata": {},
     "output_type": "execute_result"
    }
   ],
   "source": [
    "df.head()"
   ]
  },
  {
   "cell_type": "code",
   "execution_count": 24,
   "id": "d057b40f-0521-43d6-a1a6-10b4e3644b4c",
   "metadata": {},
   "outputs": [
    {
     "name": "stdout",
     "output_type": "stream",
     "text": [
      "All Nulls Clear Sir\n"
     ]
    }
   ],
   "source": [
    "currentFrame = df\n",
    "\n",
    "sizeofds = len(currentFrame.columns)\n",
    "count = 0\n",
    "for i  in currentFrame.columns:\n",
    "    if(currentFrame[i].isnull().sum()>0):\n",
    "        print(i , \"= \" , currentFrame[i].isnull().sum())\n",
    "    else:\n",
    "        count+=1      \n",
    "if(count == sizeofds):\n",
    "    print(\"All Nulls Clear Sir\")"
   ]
  },
  {
   "cell_type": "code",
   "execution_count": 25,
   "id": "77ac7894-ec1c-42c6-bc65-31ac8f0fe9be",
   "metadata": {},
   "outputs": [
    {
     "name": "stdout",
     "output_type": "stream",
     "text": [
      "<class 'pandas.core.frame.DataFrame'>\n",
      "RangeIndex: 5109 entries, 0 to 5108\n",
      "Data columns (total 37 columns):\n",
      " #   Column                  Non-Null Count  Dtype  \n",
      "---  ------                  --------------  -----  \n",
      " 0   survey_Date             5109 non-null   object \n",
      " 1   ip_latitude             5109 non-null   float64\n",
      " 2   ip_longitude            5109 non-null   float64\n",
      " 3   ip_accuracy             5109 non-null   int64  \n",
      " 4   sex                     5109 non-null   int64  \n",
      " 5   age                     5109 non-null   int64  \n",
      " 6   height                  5109 non-null   int64  \n",
      " 7   bmi                     5109 non-null   float64\n",
      " 8   blood_type              5109 non-null   int64  \n",
      " 9   insurance               5109 non-null   int64  \n",
      " 10  income                  5109 non-null   int64  \n",
      " 11  race                    5109 non-null   int64  \n",
      " 12  immigrant               5109 non-null   int64  \n",
      " 13  smoking                 5109 non-null   int64  \n",
      " 14  contacts_count          5109 non-null   float64\n",
      " 15  house_count             5109 non-null   int64  \n",
      " 16  public_transport_count  5109 non-null   float64\n",
      " 17  working                 5109 non-null   int64  \n",
      " 18  worried                 5109 non-null   float64\n",
      " 19  covid19_positive        5109 non-null   int64  \n",
      " 20  covid19_symptoms        5109 non-null   int64  \n",
      " 21  covid19_contact         5109 non-null   int64  \n",
      " 22  asthma                  5109 non-null   int64  \n",
      " 23  kidney_disease          5109 non-null   int64  \n",
      " 24  liver_disease           5109 non-null   int64  \n",
      " 25  compromised_immune      5109 non-null   int64  \n",
      " 26  heart_disease           5109 non-null   int64  \n",
      " 27  lung_disease            5109 non-null   int64  \n",
      " 28  diabetes                5109 non-null   int64  \n",
      " 29  hiv_positive            5109 non-null   int64  \n",
      " 30  hypertension            5109 non-null   int64  \n",
      " 31  other_chronic           5109 non-null   int64  \n",
      " 32  nursing_home            5109 non-null   int64  \n",
      " 33  health_worker           5109 non-null   int64  \n",
      " 34  risk_infection          5109 non-null   float64\n",
      " 35  risk_mortality          5109 non-null   float64\n",
      " 36  country_name            5109 non-null   object \n",
      "dtypes: float64(8), int64(27), object(2)\n",
      "memory usage: 1.4+ MB\n"
     ]
    }
   ],
   "source": [
    "df.info()"
   ]
  },
  {
   "cell_type": "code",
   "execution_count": 27,
   "id": "6858dfb1-9bdc-425d-adce-be2cb45fa10c",
   "metadata": {},
   "outputs": [],
   "source": [
    "## Appy the log normal transformation on ['weight', '']\n",
    "df['bmi'] = np.log(df['bmi'])"
   ]
  },
  {
   "cell_type": "code",
   "execution_count": 28,
   "id": "8332780d-14d6-4430-ab57-77c3cc0dbeaf",
   "metadata": {},
   "outputs": [
    {
     "name": "stderr",
     "output_type": "stream",
     "text": [
      "C:\\Users\\Prajwal\\anaconda3\\lib\\site-packages\\seaborn\\distributions.py:2619: FutureWarning: `distplot` is a deprecated function and will be removed in a future version. Please adapt your code to use either `displot` (a figure-level function with similar flexibility) or `histplot` (an axes-level function for histograms).\n",
      "  warnings.warn(msg, FutureWarning)\n"
     ]
    },
    {
     "data": {
      "text/plain": [
       "<AxesSubplot:xlabel='bmi', ylabel='Density'>"
      ]
     },
     "execution_count": 28,
     "metadata": {},
     "output_type": "execute_result"
    },
    {
     "data": {
      "image/png": "[encoded data removed]",
      "text/plain": [
       "<Figure size 432x288 with 1 Axes>"
      ]
     },
     "metadata": {
      "needs_background": "light"
     },
     "output_type": "display_data"
    }
   ],
   "source": [
    "sns.distplot(df['bmi'])"
   ]
  },
  {
   "cell_type": "code",
   "execution_count": 29,
   "id": "86f4d279-5288-402f-942d-4e56f418eee7",
   "metadata": {},
   "outputs": [],
   "source": [
    "# One hot on ['working', 'country_name', 'insurance', 'income', 'race', 'immigrant', 'smoking', 'blood_type', 'sex', 'age']\n",
    "\n",
    "df_without_country = df.drop(columns=['survey_Date', 'ip_latitude', 'ip_longitude', 'ip_accuracy'])\n",
    "df_dummified = pd.get_dummies(df_without_country, columns=['working', 'insurance', 'income', 'race', 'immigrant', 'smoking', 'blood_type', 'sex', 'age', 'country_name'], drop_first=True)"
   ]
  },
  {
   "cell_type": "code",
   "execution_count": 30,
   "id": "3212e327-d3e7-434d-ba56-34c5cfbfcd5d",
   "metadata": {},
   "outputs": [
    {
     "data": {
      "text/plain": [
       "(5109, 155)"
      ]
     },
     "execution_count": 30,
     "metadata": {},
     "output_type": "execute_result"
    }
   ],
   "source": [
    "df_dummified.shape"
   ]
  },
  {
   "cell_type": "code",
   "execution_count": 31,
   "id": "96e2dcf8-aecb-4b58-a948-51802730616c",
   "metadata": {},
   "outputs": [
    {
     "data": {
      "text/plain": [
       "Index(['height', 'bmi', 'contacts_count', 'house_count',\n",
       "       'public_transport_count', 'worried', 'covid19_positive',\n",
       "       'covid19_symptoms', 'covid19_contact', 'asthma',\n",
       "       ...\n",
       "       'country_name_Spain', 'country_name_Sweden', 'country_name_Switzerland',\n",
       "       'country_name_Thailand', 'country_name_The Bahamas',\n",
       "       'country_name_Turkey', 'country_name_U.S. Virgin Islands',\n",
       "       'country_name_Ukraine', 'country_name_United Arab Emirates',\n",
       "       'country_name_United States'],\n",
       "      dtype='object', length=155)"
      ]
     },
     "execution_count": 31,
     "metadata": {},
     "output_type": "execute_result"
    }
   ],
   "source": [
    "df_dummified.columns"
   ]
  },
  {
   "cell_type": "code",
   "execution_count": 32,
   "id": "4ed1fc6a-8cbc-4f91-9a48-7c3b9df0004f",
   "metadata": {},
   "outputs": [
    {
     "name": "stdout",
     "output_type": "stream",
     "text": [
      "<class 'pandas.core.frame.DataFrame'>\n",
      "RangeIndex: 5109 entries, 0 to 5108\n",
      "Columns: 155 entries, height to country_name_United States\n",
      "dtypes: float64(6), int64(17), uint8(132)\n",
      "memory usage: 1.5 MB\n"
     ]
    }
   ],
   "source": [
    "df_dummified.info()"
   ]
  },
  {
   "cell_type": "code",
   "execution_count": 33,
   "id": "382baa37-64bd-41be-a819-812b5c20d00a",
   "metadata": {},
   "outputs": [],
   "source": [
    "## Doing a train Test Split.\n",
    "\n",
    "X = df_dummified.drop(columns=['risk_mortality'])\n",
    "y = df_dummified['risk_mortality']"
   ]
  },
  {
   "cell_type": "code",
   "execution_count": 34,
   "id": "5c6167cf-f76c-4f7f-871d-42d923d9224c",
   "metadata": {},
   "outputs": [],
   "source": [
    "from sklearn.model_selection import train_test_split\n",
    "X_train, X_test, y_train, y_test = train_test_split(X, y, test_size=0.20, random_state=42)"
   ]
  },
  {
   "cell_type": "code",
   "execution_count": 35,
   "id": "3bd838e1-8bff-4f43-b986-643227ba6b77",
   "metadata": {
    "tags": []
   },
   "outputs": [
    {
     "name": "stdout",
     "output_type": "stream",
     "text": [
      "{'alpha': 1} -8.209071510457981\n"
     ]
    }
   ],
   "source": [
    "## Trying the Lasso Regression.\n",
    "from sklearn.model_selection import GridSearchCV\n",
    "from sklearn.linear_model import Lasso\n",
    "lasso = Lasso()\n",
    "parameters = {'alpha': [1 ,2, 3, 5, 7, 9, 12, 24, 50]}\n",
    "lasso_CV = GridSearchCV(lasso, parameters, scoring='neg_mean_squared_error', cv=10)\n",
    "lasso_CV.fit(X_train, y_train)\n",
    "\n",
    "print(lasso_CV.best_params_, lasso_CV.best_score_)"
   ]
  },
  {
   "cell_type": "code",
   "execution_count": 36,
   "id": "4fc31c6e-76e9-49ec-bdd2-9de773f230bb",
   "metadata": {},
   "outputs": [],
   "source": [
    "from sklearn.ensemble import RandomForestRegressor\n",
    "regressor = RandomForestRegressor()"
   ]
  },
  {
   "cell_type": "code",
   "execution_count": null,
   "id": "3766af8b-70a7-47a1-b4ef-0bc28ff9747e",
   "metadata": {},
   "outputs": [],
   "source": [
    "# from sklearn.model_selection import GridSearchCV\n",
    "\n",
    "# n_estimators = [int(x) for x in np.linspace(start=10, stop=1000, num=10 )]\n",
    "# max_features = ['auto', 'sqrt']\n",
    "# max_depth = [i for i in range(2, 10, 2)]\n",
    "# min_samples_split = [2, 5, 7, 11]\n",
    "# min_sample_leaf = [1, 2, 3, 4, 5]\n",
    "# bootstrap = [True, False]\n",
    "\n",
    "# param_grid = {'n_estimators': n_estimators,\n",
    "#     'max_features': max_features,\n",
    "#     'max_depth': max_depth,\n",
    "#     'min_samples_split': min_samples_split,\n",
    "#     'min_samples_leaf': min_sample_leaf,\n",
    "#     'bootstrap': bootstrap\n",
    "# }\n",
    "# print(param_grid)"
   ]
  },
  {
   "cell_type": "code",
   "execution_count": null,
   "id": "0be70687-7cb4-4f84-88fc-93abf97ae5dd",
   "metadata": {},
   "outputs": [],
   "source": [
    "# rf_Reg = GridSearchCV(estimator = regressor, param_grid=param_grid, cv=5)\n",
    "# rf_Reg.fit(X_train, y_train)"
   ]
  },
  {
   "cell_type": "code",
   "execution_count": 37,
   "id": "4e8e0108-10c2-4eaf-81f0-c58974f1617a",
   "metadata": {},
   "outputs": [
    {
     "name": "stdout",
     "output_type": "stream",
     "text": [
      "Mean Absolute Error: 0.17 degrees.\n"
     ]
    }
   ],
   "source": [
    "regressor.fit(X_train, y_train)\n",
    "predictions = regressor.predict(X_test)\n",
    "errors = abs(predictions - y_test)\n",
    "print('Mean Absolute Error:', round(np.mean(errors), 2), 'degrees.')"
   ]
  },
  {
   "cell_type": "code",
   "execution_count": 38,
   "id": "2e9985a2-be6f-4464-bd5b-59460b2b6cd4",
   "metadata": {},
   "outputs": [
    {
     "name": "stdout",
     "output_type": "stream",
     "text": [
      "Accuracy: 83.78 %.\n"
     ]
    }
   ],
   "source": [
    "# Calculate mean absolute percentage error (MAPE)\n",
    "mape = 100 * (errors / y_test)\n",
    "# Calculate and display accuracy\n",
    "accuracy = 100 - np.mean(mape)\n",
    "print('Accuracy:', round(accuracy, 2), '%.')"
   ]
  }
 ],
 "metadata": {
  "kernelspec": {
   "display_name": "Python 3 (ipykernel)",
   "language": "python",
   "name": "python3"
  },
  "language_info": {
   "codemirror_mode": {
    "name": "ipython",
    "version": 3
   },
   "file_extension": ".py",
   "mimetype": "text/x-python",
   "name": "python",
   "nbconvert_exporter": "python",
   "pygments_lexer": "ipython3",
   "version": "3.9.7"
  }
 },
 "nbformat": 4,
 "nbformat_minor": 5
}
